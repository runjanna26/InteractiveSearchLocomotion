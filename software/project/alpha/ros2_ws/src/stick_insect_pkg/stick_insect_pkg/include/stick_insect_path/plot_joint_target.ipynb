{
 "cells": [
  {
   "cell_type": "code",
   "execution_count": 212,
   "metadata": {},
   "outputs": [],
   "source": [
    "import time\n",
    "import pandas as pd\n",
    "import json\n",
    "from datetime import datetime\n",
    "from datetime import timezone\n",
    "\n",
    "\n",
    "import numpy as np\n",
    "import matplotlib.pyplot as plt\n",
    "import matplotlib.colors as mcolors\n",
    "from matplotlib.ticker import ScalarFormatter\n",
    "from matplotlib.colors import ListedColormap\n",
    "\n",
    "import plotly.graph_objects as go\n",
    "from plotly.subplots import make_subplots"
   ]
  },
  {
   "cell_type": "code",
   "execution_count": 213,
   "metadata": {},
   "outputs": [],
   "source": [
    "def rotate_last_to_first(df):\n",
    "    return df.apply(lambda col: col.shift(100).fillna(col.iloc[-100]))\n",
    "def rotate_cyclic(df, column_name, range):\n",
    "    # Move the last value to the first position using pd.concat()\n",
    "    return pd.concat([df[column_name].iloc[-range:], df[column_name].iloc[:-range]]).reset_index(drop=True)\n",
    "\n",
    "\n",
    "\n"
   ]
  },
  {
   "cell_type": "code",
   "execution_count": 214,
   "metadata": {},
   "outputs": [],
   "source": [
    "leg_0_df = pd.read_csv('rbfn_joint_targets_0.csv')\n",
    "leg_1_df = pd.read_csv('rbfn_joint_targets_1_v1.csv')\n",
    "leg_2_df = pd.read_csv('rbfn_joint_targets_2_new_v1.csv')\n",
    "\n",
    "\n",
    "leg_0_df['TR0'] = rotate_cyclic(leg_0_df, 'TR0', 250)\n",
    "leg_0_df['CR0'] = rotate_cyclic(leg_0_df, 'CR0', 250)\n",
    "leg_0_df['FR0'] = rotate_cyclic(leg_0_df, 'FR0', 250)\n",
    "\n",
    "leg_1_df['TR1'] = rotate_cyclic(leg_1_df, 'TR1', 300)\n",
    "leg_1_df['CR1'] = rotate_cyclic(leg_1_df, 'CR1', 300)\n",
    "leg_1_df['FR1'] = rotate_cyclic(leg_1_df, 'FR1', 300)\n",
    "\n",
    "leg_2_df['TR2'] = rotate_cyclic(leg_2_df, 'TR2', 300)\n",
    "leg_2_df['CR2'] = rotate_cyclic(leg_2_df, 'CR2', 300)\n",
    "leg_2_df['FR2'] = rotate_cyclic(leg_2_df, 'FR2', 300)\n",
    "\n",
    "\n",
    "\n",
    "leg_0_df_me = pd.read_csv('rbfn_joint_targets_withz_me_0.csv')\n",
    "\n",
    "leg_1_df_me = pd.read_csv('rbfn_joint_targets_withz_me_1.csv')\n",
    "leg_2_df_me = pd.read_csv('rbfn_joint_targets_withz_me_2.csv')\n",
    "\n",
    "leg_0_df_me.rename(columns={'tr': 'TR0', 'cr': 'CR0', 'fr': 'FR0', 'z': 'Z0'}, inplace=True)\n",
    "leg_1_df_me.rename(columns={'tr': 'TR1', 'cr': 'CR1', 'fr': 'FR1', 'z': 'Z1'}, inplace=True)\n",
    "leg_2_df_me.rename(columns={'tr': 'TR2', 'cr': 'CR2', 'fr': 'FR2', 'z': 'Z2'}, inplace=True)"
   ]
  },
  {
   "cell_type": "code",
   "execution_count": 215,
   "metadata": {},
   "outputs": [
    {
     "data": {
      "application/vnd.plotly.v1+json": {
       "config": {
        "plotlyServerURL": "https://plot.ly"
       },
       "data": [
        {
         "mode": "lines",
         "name": "TR0",
         "type": "scatter",
         "xaxis": "x",
         "y": {
          "bdata": "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",
          "dtype": "f8"
         },
         "yaxis": "y"
        },
        {
         "mode": "lines",
         "name": "CR0",
         "type": "scatter",
         "xaxis": "x4",
         "y": {
          "bdata": "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",
          "dtype": "f8"
         },
         "yaxis": "y4"
        },
        {
         "mode": "lines",
         "name": "FR0",
         "type": "scatter",
         "xaxis": "x7",
         "y": {
          "bdata": "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",
          "dtype": "f8"
         },
         "yaxis": "y7"
        },
        {
         "mode": "lines",
         "name": "TR1",
         "type": "scatter",
         "xaxis": "x2",
         "y": {
          "bdata": "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",
          "dtype": "f8"
         },
         "yaxis": "y2"
        },
        {
         "mode": "lines",
         "name": "CR1",
         "type": "scatter",
         "xaxis": "x5",
         "y": {
          "bdata": "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",
          "dtype": "f8"
         },
         "yaxis": "y5"
        },
        {
         "mode": "lines",
         "name": "FR1",
         "type": "scatter",
         "xaxis": "x8",
         "y": {
          "bdata": "xSCwcmiR57/ufD81Xrrnv9uK/WX35Oe/yJi7lpAP6L95WKg1zTvovw1xrIvbaOi/oImw4emV6L80orQ3+MLov6kT0ETY8Oi/Ad4CCYof6b92Tx4Wak3pv+zAOSNKe+m/RIts5/up6b+5/If029fpvy9uowG8Beq/pN++Dpwz6r8aUdobfGHqv61p3nGKjuq/QYLix5i76r/yQc9m1efqv4Za07zjFOu/VcGopE5A678GgZVDi2zrv/OOU3Qkl+u/w/UoXI/C67/Oqs/VVuzrv7u4jQbwFuy/5BQdyeU/7L/vycNCrWnsvzbNO07Rkey/fdCzWfW57L/D0ytlGeLsvyh+jLlrCe2/jSjtDb4w7b8QejarPlftv7ByaJHtfO2/UWuad5yi7b8PC7Wmecftv86qz9VW7O2/qvHSTWIQ7r+GONbFbTTuv4EmwoanV+6/mbuWkA967r+xUGuad5zuv8nlP6Tfvu6//yH99nXg7r9TBaOSOgHvv6foSC7/Ie+/GXPXEvJB77+L/WX35GHvv/2H9NvXge+/qmBUUieg7786kst/SL/vvwYSFD/G3O+/s+pztRX7778/NV66SQzwv7TIdr6fGvC/KVyPwvUo8L8tQxzr4jbwvzAqqRPQRPC/w2SqYFRS8L9Wn6ut2F/wv3ctIR/0bPC/mbuWkA968L+6SQwCK4fwv2sr9pfdk/C/qmBUUieg8L/qlbIMcazwvynLEMe6uPC/+FPjpZvE8L/G3LWEfNDwvyS5/If02/C/gZVDi2zn8L9txf6ye/Lwv1r1udqK/fC/1XjpJjEI8b9Q/Bhz1xLxv8x/SL99HfG/1lbsL7sn8b9vgQTFjzHxv3lYqDXNO/G/odY07zhF8b87AU2EDU/xv2N/2T15WPG/GlHaG3xh8b9Cz2bV52rxv4j029eBc/G/zhlR2ht88b8UP8bctYTxv1pkO99PjfG/L90kBoGV8b+TqYJRSZ3xv2gibHh6pfG/zO7Jw0Kt8b+/DpwzorTxv7IubqMBvPG/NKK0N/jC8b8nwoanV8rxvzeJQWDl0PG/ufyH9NvX8b/Kw0Ktad7xv2recYqO5PG/eqUsQxzr8b+pE9BE2PDxv9iBc0aU9vG/s+pztRX78b+t+lxtxf7xv6YKRiV1AvK/oBov3SQG8r+ZKhiV1Anyv5M6AU2EDfK//fZ14JwR8r/3Bl+YTBXyv/AWSFD8GPK/W9O84xQd8r9U46WbxCDyv03zjlN0JPK/1lbsL7sn8r/tDb4wmSryvwXFjzF3LfK/HHxhMlUw8r8zMzMzMzPyv0vqBDQRNvK/YqHWNO848r95WKg1zTvyv5EPejarPvK/qMZLN4lB8r9O0ZFc/kPyv/Xb14FzRvK/fT81XrpJ8r+U9gZfmEzyv6yt2F92T/K/w2SqYFRS8r9pb/CFyVTyv5/Nqs/VVvK/Rdjw9EpZ8r96Nqs+V1vyv6+UZYhjXfK/dEaU9gZf8r84+MJkqmDyv4v9ZffkYfK/T6+UZYhj8r8xCKwcWmTyv6K0N/jCZPK/orQ3+MJk8r8TYcPTK2Xyv6K0N/jCZPK/orQ3+MJk8r+itDf4wmTyvzEIrBxaZPK/wFsgQfFj8r/eAgmKH2Pyv/yp8dJNYvK/GlHaG3xh8r84+MJkqmDyv+XyH9JvX/K/ke18PzVe8r8+6Nms+lzyv3o2qz5XW/K/toR80LNZ8r+BJsKGp1fyv7x0kxgEVvK/FmpN845T8r/hC5OpglHyvzsBTYQNT/K/lPYGX5hM8r/QRNjw9Eryv30/NV66SfK/m+Ydp+hI8r8qOpLLf0jyv9c07zhFR/K/gy9MpgpG8r8wKqkT0ETyv/vL7snDQvK/NxrAWyBB8r+RD3o2qz7yv+oENBE2PPK/RPrt68A58r+e76fGSzfyv9k9eVioNfK/MzMzMzMz8r+NKO0NvjDyv3ZxGw3gLfK/XrpJDAIr8r/WVuwvuyfyv03zjlN0JPK/VOOlm8Qg8r/pJjEIrBzyv39qvHSTGPK/FK5H4XoU8r85RUdy+Q/yv+wvuycPC/K/Ece6uI0G8r9TBaOSOgHyv5ZDi2zn+/G/2IFzRpT28b+pE9BE2PDxv3qlLEMc6/G/TDeJQWDl8b+sHFpkO9/xv5tVn6ut2PG/io7k8h/S8b96xyk6ksvxv/hT46WbxPG/duCcEaW98b+DwMqhRbbxv5Cg+DHmrvG/nYAmwoan8b85tMh2vp/xv9Xnaiv2l/G/AG+BBMWP8b8r9pfdk4fxv1Z9rrZif/G/EFg5tMh28b9ZhjjWxW3xvxNhw9MrZfG/6+I2GsBb8b80ETY8vVLxvwyTqYJRSfG/c2iR7Xw/8b/ZPXlYqDXxv0ATYcPTK/G/Njy9UpYh8b8sZRniWBfxv7Hh6ZWyDPG/NV66SQwC8b+62or9Zffwv86qz9VW7PC/cM6I0t7g8L8T8kHPZtXwv7UV+8vuyfC/54wo7Q2+8L/7XG3F/rLwv9Pe4AuTqfC/jLlrCfmg8L/V52or9pfwv8sQx7q4jfC/wTkjSnuD8L+3Yn/ZPXnwvzvfT42XbvC/3gIJih9j8L+BJsKGp1fwv7Kd76fGS/C/5BQdyeU/8L8zMzMzMzPwv4NRSZ2AJvC/YcPTK2UZ8L/OiNLe4Avwv3icoiO5/O+/ysNCrWne778c6+I2GsDvv28Sg8DKoe+/3+ALk6mC779Pr5RliGPvv90kBoGVQ++/iUFg5dAi7781XrpJDALvv+F6FK5H4e6/qz5XW7G/7r+TqYJRSZ3uv3sUrkfheu6/gSbChqdX7r+GONbFbTTuv6rx0k1iEO6/zqrP1Vbs7b8PC7Wmecftv28Sg8DKoe2/zhlR2ht87b9LyAc9m1Xtv8l2vp8aL+2/ZMxdS8gH7b8dyeU/pN/sv9bFbTSAt+y/rWnecYqO7L+itDf4wmTsv5f/kH77Ouy/qvHSTWIQ7L/biv1l9+TrvwskKH6Mueu/WmQ730+N67/HSzeJQWDrv1HaG3xhMuu/3GgAb4EE67+Ens2qz9Xqv0p7gy9Mpuq/Lv8h/fZ16r8Sg8DKoUXqvxSuR+F6FOq/UiegibDh6b+DwMqhRbbpvwBvgQTFj+m/nMQgsHJo6b+RD3o2qz7pv8GopE5AE+m/LpCg+DHm6L/WxW00gLfov5yiI7n8h+i/vHSTGARW6L/67evAOSPov1YOLbKd7+e/9bnaiv1l57+cxCCwcmjnv1OWIY51cee//Yf029eB57/V52or9pfnv921hHzQs+e/T0ATYcPT578rhxbZzvfnv5Axdy0hH+i/fT81XrpJ6L8QWDm0yHbov0p7gy9Mpui/KqkT0ETY6L/sL7snDwvpv3Noke18P+m/vVKWIY516b/qlbIMcazpv/kx5q4l5Om/B84ZUdob6r/aG3xhMlXqv61p3nGKjuq/YhBYObTI6r/5D+m3rwPrv3Noke18P+u/7MA5I0p7679lGeJYF7frv8HKoUW28+u/HHxhMlUw7L+V1AloImzsv/CFyVTBqOy/TDeJQWDl7L9rmnecoiPtv21Wfa62Yu2/bxKDwMqh7b9SJ6CJsOHtvxiV1AloIu6/3gIJih9j7r+GyVTBqKTuv0w3iUFg5e6/9P3UeOkm77+6awn5oGfvv3/ZPXlYqO+/RUdy+Q/p778UrkfhehTwv4Y41sVtNPC/+MJkqmBU8L/5oGez6nPwv/p+arx0k/C/irDh6ZWy8L+oNc07TtHwvzhnRGlv8PC/V+wvuycP8b8FxY8xdy3xv7Kd76fGS/G/78nDQq1p8b9/+zpwzojxvw4tsp3vp/G/vAUSFD/G8b9q3nGKjuTxvzVeukkMAvK/Ad4CCYof8r9bsb/snjzyv0XY8PRKWfK/vVKWIY518r/FILByaJHyv1tCPujZrPK/gLdAguLH8r80gLdAguLyv3icoiO5/PK/aLPqc7UV879YyjLEsS7zv0jhehSuR/O/x0s3iUFg87+3Yn/ZPXnzvzbNO07RkfO/RIts5/up87/D9Shcj8Lzv9CzWfW52vO/3nGKjuTy8797gy9Mpgr0vxiV1AloIvS/RPrt68A59L/hC5OpglH0vw1xrIvbaPS/xyk6kst/9L+C4seYu5b0vz2bVZ+rrfS/h6dXyjLE9L/Qs1n1udr0v6kT0ETY8PS/gnNGlPYG9b/pJjEIrBz1v1HaG3xhMvW/uY0G8BZI9b+vlGWIY131vzXvOEVHcvW/K/aX3ZOH9b+xUGuad5z1v8X+snvysPW/2qz6XG3F9b99rrZif9n1v7AD54wo7fW/4lgXt9EA9r8UrkfhehT2v2WqYFRSJ/a/JlMFo5I69r8Fo5I6AU32v1afq63YX/a/xEKtad5x9r+jkjoBTYT2v6CJsOHplfa/Di2yne+n9r+ad5yiI7n2vyfChqdXyva/swxxrIvb9r/Oqs/VVuz2v+lILv8h/fa/kzoBTYQN9789LNSa5h33v3ZxGw3gLfe/rrZif9k99792Tx4Wak33vz7o2az6XPe/BoGVQ4ts97/OGVHaG3z3vyUGgZVDi/e/C0YldQKa979hMlUwKqn3v0dy+Q/pt/e/LbKd76fG97+iRbbz/dT3v6UsQxzr4ve/OGdEaW/w979a9bnaiv33vwrXo3A9Cvi/SgwCK4cW+L+JQWDl0CL4v1jKMsSxLvi/taZ5xyk6+L+h1jTvOEX4v44G8BZIUPi/CYofY+5a+L+EDU+vlGX4v4/k8h/Sb/i/mbuWkA96+L8y5q4l5IP4vzy9UpYhjvi/uECC4seY+L+kcD0K16P4v5Cg+DHmrvi/7nw/NV66+L9LWYY41sX4vxniWBe30fi/6Gor9pfd+L9FR3L5D+n4vxTQRNjw9Pi/cayL22gA+b9d3EYDeAv5v0oMAiuHFvm/Njy9UpYh+b8ibHh6pSz5vy1DHOviNvm/NxrAWyBB+b/u68A5I0r5v4cW2c73U/m/r5RliGNd+b9mZmZmZmb5vx04Z0Rpb/m/ZF3cRgN4+b+qglFJnYD5v3/7OnDOiPm/48eYu5aQ+b/V52or9pf5v8gHPZtVn/m/2c73U+Ol+b8IPZtVn6v5v8X+snvysPm/g8DKoUW2+b/Q1VbsL7v5vxzr4jYawPm/+FPjpZvE+b9iEFg5tMj5vz55WKg1zfm/N4lBYOXQ+b+iRbbz/dT5v5tVn6ut2Pm/lWWIY13c+b+OdXEbDeD5v4iFWtO84/m/gZVDi2zn+b8J+aBns+r5v5Jc/kP67fm/GsBbIEHx+b8ydy0hH/T5v0ku/yH99vm/YOXQItv5+b8H8BZIUPz5vzxO0ZFc/vm/AAAAAAAA+r9TBaOSOgH6v6YKRiV1Avq/+Q/pt68D+r9qvHSTGAT6v9xoAG+BBPq/TRWMSuoE+r9NFYxK6gT6v00VjErqBPq/3GgAb4EE+r/5D+m3rwP6vxe30QDeAvq/NV66SQwC+r/iWBe30QD6v49TdCSX//m/y6FFtvP9+b8H8BZIUPz5v0I+6Nms+vm/DeAtkKD4+b9n1edqK/b5vzJ3LSEf9Pm/i2zn+6nx+b90tRX7y+75v13+Q/rt6/m/RUdy+Q/p+b8ukKD4Meb5vxfZzvdT4/m//yH99nXg+b/oaiv2l935v9CzWfW52vm/SFD8GHPX+b8xmSoYldT5v6g1zTtO0fm/kX77OnDO+b8JG55eKcv5vw8LtaZ5x/m/h6dXyjLE+b+Nl24Sg8D5v5SHhVrTvPm/mnecoiO5+b8wuycPC7X5v1RSJ6CJsPm/eekmMQis+b+7Jw8Ltab5v/5l9+Rhofm/z/dT46Wb+b8v3SQGgZX5v4/C9Shcj/m/f/s6cM6I+b9uNIC3QIL5v+zAOSNKe/m/+aBns+pz+b8GgZVDi2z5v6K0N/jCZPm/zTtO0ZFc+b+HFtnO91P5v9BE2PD0Svm/GXPXEvJB+b+ASL99HTj5v+cdp+hILvm/TfOOU3Qk+b9DHOviNhr5v8iYu5aQD/m/3GgAb4EE+b9g5dAi2/n4vwMJih9j7vi/pSxDHOvi+L9IUPwYc9f4v3rHKTqSy/i/HOviNhrA+L9OYhBYObT4v3/ZPXlYqPi/QKTfvg6c+L9xGw3gLZD4vzLmriXkg/i/gQTFjzF3+L9Cz2bV52r4v5HtfD81Xvi/4QuTqYJR+L+/fR04Z0T4v57vp8ZLN/i/C7Wmeccp+L94eqUsQxz4v3WTGARWDvi/cayL22gA+L/8GHPXEvL3vxfZzvdT4/e/MZkqGJXU97/arPpcbcX3v4PAyqFFtve/LNSa5h2n979kO99PjZf3vyv2l92Th/e/8rBQa5p3979Iv30dOGf3v5/Nqs/VVve/9dvXgXNG97/ZPXlYqDX3v03zjlN0JPe/waikTkAT97/EsS5uowH3v8e6uI0G8Pa/ysNCrWne9r9cIEHxY8z2v33Qs1n1ufa/nYAmwoan9r+gibDh6ZX2vzLmriXkg/a/U5YhjnVx9r90RpT2Bl/2vyNKe4MvTPa/001iEFg59r8Spb3BFyb2v99PjZduEva/PE7RkVz+9b+YTBWMSur1v/VKWYY41vW/4JwRpb3B9b9bQj7o2az1v9Xnaiv2l/W/bjSAt0CC9b+V1AloImz1v7x0kxgEVvW/VcGopE5A9b98YTJVMCr1vzJVMCqpE/W/WvW52or99L8Q6bevA+f0v8bctYR80PS/fdCzWfW59L9Ra5p3nKL0vyUGgZVDi/S/+aBns+pz9L9cj8L1KFz0v07RkVz+Q/S/QBNhw9Mr9L/BqKROQBP0v7Pqc7UV+/O/NIC3QILi879EaW/whcnzv8X+snvysPO/ZDvfT42X8790JJf/kH7zvxNhw9MrZfO/sp3vp8ZL87/gLZCg+DHzvw6+MJkqGPO/y6FFtvP98r8X2c73U+Pyv2IQWDm0yPK/PZtVn6ut8r8YJlMFo5LyvxBYObTIdvK/CYofY+5a8r+RD3o2qz7yvxiV1AloIvK/vsEXJlMF8r9j7lpCPujxv5huEoPAyvG/zO7Jw0Kt8b8Ab4EExY/xv8RCrWnecfG/hxbZzvdT8b9L6gQ0ETbxv50Rpb3BF/G/foy5awn58L9fB84ZUdrwv0GC4seYu/C/QKTfvg6c8L8/xty1hHzwvz7o2az6XPC/PQrXo3A98L89LNSa5h3wv1r1udqK/e+/WDm0yHa+77851sVtNIDvvxlz1xLyQe+/F7fRAN4C778W+8vuycPuvzLmriXkg+6/TtGRXP5D7r/EsS5uowHuvzqSy39Iv+2/7MA5I0p77b/ZPXlYqDXtv+VhodY07+y/Di2yne+n7L9Wn6ut2F/sv9lfdk8eFuy/escpOpLL678bL90kBoHrv0T67evAOeu/MnctIR/06r/jpZvEILDqv1mGONbFbeq/kxgEVg4t6r+wA+eMKO3pv65H4XoUrum/j+TyH9Jv6b+NKO0NvjDpv8e6uI0G8Oi/PZtVn6ut6L/RItv5fmrov76fGi/dJOi/6Gor9pfd578v3SQGgZXnv1ioNc07Tue/oBov3SQG579iEFg5tMjmv+2ePCzUmua/8rBQa5p35r+R7Xw/NV7mv+f7qfHSTea/EoPAyqFF5r9O0ZFc/kPmv30/NV66Sea/2ht8YTJV5r9mZmZmZmbmv11txf6ye+a/vjCZKhiV5r+oV8oyxLHmvxniWBe30ea/FNBE2PD05r/Sb18HzhnnvzcawFsgQee/YHZPHhZq578=",
          "dtype": "f8"
         },
         "yaxis": "y8"
        },
        {
         "mode": "lines",
         "name": "TR2",
         "type": "scatter",
         "xaxis": "x3",
         "y": {
          "bdata": "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",
          "dtype": "f8"
         },
         "yaxis": "y3"
        },
        {
         "mode": "lines",
         "name": "CR2",
         "type": "scatter",
         "xaxis": "x6",
         "y": {
          "bdata": "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",
          "dtype": "f8"
         },
         "yaxis": "y6"
        },
        {
         "mode": "lines",
         "name": "FR2",
         "type": "scatter",
         "xaxis": "x9",
         "y": {
          "bdata": "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",
          "dtype": "f8"
         },
         "yaxis": "y9"
        },
        {
         "mode": "lines",
         "name": "TR0_me",
         "type": "scatter",
         "xaxis": "x",
         "y": {
          "bdata": "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",
          "dtype": "f8"
         },
         "yaxis": "y"
        },
        {
         "mode": "lines",
         "name": "CR0_me",
         "type": "scatter",
         "xaxis": "x4",
         "y": {
          "bdata": "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",
          "dtype": "f8"
         },
         "yaxis": "y4"
        },
        {
         "mode": "lines",
         "name": "FR0_me",
         "type": "scatter",
         "xaxis": "x7",
         "y": {
          "bdata": "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",
          "dtype": "f8"
         },
         "yaxis": "y7"
        },
        {
         "mode": "lines",
         "name": "TR1_me",
         "type": "scatter",
         "xaxis": "x2",
         "y": {
          "bdata": "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",
          "dtype": "f8"
         },
         "yaxis": "y2"
        },
        {
         "mode": "lines",
         "name": "CR1_me",
         "type": "scatter",
         "xaxis": "x5",
         "y": {
          "bdata": "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",
          "dtype": "f8"
         },
         "yaxis": "y5"
        },
        {
         "mode": "lines",
         "name": "FR1_me",
         "type": "scatter",
         "xaxis": "x8",
         "y": {
          "bdata": "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",
          "dtype": "f8"
         },
         "yaxis": "y8"
        },
        {
         "mode": "lines",
         "name": "TR2_me",
         "type": "scatter",
         "xaxis": "x3",
         "y": {
          "bdata": "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",
          "dtype": "f8"
         },
         "yaxis": "y3"
        },
        {
         "mode": "lines",
         "name": "CR2_me",
         "type": "scatter",
         "xaxis": "x6",
         "y": {
          "bdata": "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",
          "dtype": "f8"
         },
         "yaxis": "y6"
        },
        {
         "mode": "lines",
         "name": "FR2_me",
         "type": "scatter",
         "xaxis": "x9",
         "y": {
          "bdata": "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",
          "dtype": "f8"
         },
         "yaxis": "y9"
        }
       ],
       "layout": {
        "height": 800,
        "margin": {
         "b": 10,
         "l": 10,
         "r": 10,
         "t": 40
        },
        "template": {
         "data": {
          "bar": [
           {
            "error_x": {
             "color": "#2a3f5f"
            },
            "error_y": {
             "color": "#2a3f5f"
            },
            "marker": {
             "line": {
              "color": "#E5ECF6",
              "width": 0.5
             },
             "pattern": {
              "fillmode": "overlay",
              "size": 10,
              "solidity": 0.2
             }
            },
            "type": "bar"
           }
          ],
          "barpolar": [
           {
            "marker": {
             "line": {
              "color": "#E5ECF6",
              "width": 0.5
             },
             "pattern": {
              "fillmode": "overlay",
              "size": 10,
              "solidity": 0.2
             }
            },
            "type": "barpolar"
           }
          ],
          "carpet": [
           {
            "aaxis": {
             "endlinecolor": "#2a3f5f",
             "gridcolor": "white",
             "linecolor": "white",
             "minorgridcolor": "white",
             "startlinecolor": "#2a3f5f"
            },
            "baxis": {
             "endlinecolor": "#2a3f5f",
             "gridcolor": "white",
             "linecolor": "white",
             "minorgridcolor": "white",
             "startlinecolor": "#2a3f5f"
            },
            "type": "carpet"
           }
          ],
          "choropleth": [
           {
            "colorbar": {
             "outlinewidth": 0,
             "ticks": ""
            },
            "type": "choropleth"
           }
          ],
          "contour": [
           {
            "colorbar": {
             "outlinewidth": 0,
             "ticks": ""
            },
            "colorscale": [
             [
              0,
              "#0d0887"
             ],
             [
              0.1111111111111111,
              "#46039f"
             ],
             [
              0.2222222222222222,
              "#7201a8"
             ],
             [
              0.3333333333333333,
              "#9c179e"
             ],
             [
              0.4444444444444444,
              "#bd3786"
             ],
             [
              0.5555555555555556,
              "#d8576b"
             ],
             [
              0.6666666666666666,
              "#ed7953"
             ],
             [
              0.7777777777777778,
              "#fb9f3a"
             ],
             [
              0.8888888888888888,
              "#fdca26"
             ],
             [
              1,
              "#f0f921"
             ]
            ],
            "type": "contour"
           }
          ],
          "contourcarpet": [
           {
            "colorbar": {
             "outlinewidth": 0,
             "ticks": ""
            },
            "type": "contourcarpet"
           }
          ],
          "heatmap": [
           {
            "colorbar": {
             "outlinewidth": 0,
             "ticks": ""
            },
            "colorscale": [
             [
              0,
              "#0d0887"
             ],
             [
              0.1111111111111111,
              "#46039f"
             ],
             [
              0.2222222222222222,
              "#7201a8"
             ],
             [
              0.3333333333333333,
              "#9c179e"
             ],
             [
              0.4444444444444444,
              "#bd3786"
             ],
             [
              0.5555555555555556,
              "#d8576b"
             ],
             [
              0.6666666666666666,
              "#ed7953"
             ],
             [
              0.7777777777777778,
              "#fb9f3a"
             ],
             [
              0.8888888888888888,
              "#fdca26"
             ],
             [
              1,
              "#f0f921"
             ]
            ],
            "type": "heatmap"
           }
          ],
          "histogram": [
           {
            "marker": {
             "pattern": {
              "fillmode": "overlay",
              "size": 10,
              "solidity": 0.2
             }
            },
            "type": "histogram"
           }
          ],
          "histogram2d": [
           {
            "colorbar": {
             "outlinewidth": 0,
             "ticks": ""
            },
            "colorscale": [
             [
              0,
              "#0d0887"
             ],
             [
              0.1111111111111111,
              "#46039f"
             ],
             [
              0.2222222222222222,
              "#7201a8"
             ],
             [
              0.3333333333333333,
              "#9c179e"
             ],
             [
              0.4444444444444444,
              "#bd3786"
             ],
             [
              0.5555555555555556,
              "#d8576b"
             ],
             [
              0.6666666666666666,
              "#ed7953"
             ],
             [
              0.7777777777777778,
              "#fb9f3a"
             ],
             [
              0.8888888888888888,
              "#fdca26"
             ],
             [
              1,
              "#f0f921"
             ]
            ],
            "type": "histogram2d"
           }
          ],
          "histogram2dcontour": [
           {
            "colorbar": {
             "outlinewidth": 0,
             "ticks": ""
            },
            "colorscale": [
             [
              0,
              "#0d0887"
             ],
             [
              0.1111111111111111,
              "#46039f"
             ],
             [
              0.2222222222222222,
              "#7201a8"
             ],
             [
              0.3333333333333333,
              "#9c179e"
             ],
             [
              0.4444444444444444,
              "#bd3786"
             ],
             [
              0.5555555555555556,
              "#d8576b"
             ],
             [
              0.6666666666666666,
              "#ed7953"
             ],
             [
              0.7777777777777778,
              "#fb9f3a"
             ],
             [
              0.8888888888888888,
              "#fdca26"
             ],
             [
              1,
              "#f0f921"
             ]
            ],
            "type": "histogram2dcontour"
           }
          ],
          "mesh3d": [
           {
            "colorbar": {
             "outlinewidth": 0,
             "ticks": ""
            },
            "type": "mesh3d"
           }
          ],
          "parcoords": [
           {
            "line": {
             "colorbar": {
              "outlinewidth": 0,
              "ticks": ""
             }
            },
            "type": "parcoords"
           }
          ],
          "pie": [
           {
            "automargin": true,
            "type": "pie"
           }
          ],
          "scatter": [
           {
            "fillpattern": {
             "fillmode": "overlay",
             "size": 10,
             "solidity": 0.2
            },
            "type": "scatter"
           }
          ],
          "scatter3d": [
           {
            "line": {
             "colorbar": {
              "outlinewidth": 0,
              "ticks": ""
             }
            },
            "marker": {
             "colorbar": {
              "outlinewidth": 0,
              "ticks": ""
             }
            },
            "type": "scatter3d"
           }
          ],
          "scattercarpet": [
           {
            "marker": {
             "colorbar": {
              "outlinewidth": 0,
              "ticks": ""
             }
            },
            "type": "scattercarpet"
           }
          ],
          "scattergeo": [
           {
            "marker": {
             "colorbar": {
              "outlinewidth": 0,
              "ticks": ""
             }
            },
            "type": "scattergeo"
           }
          ],
          "scattergl": [
           {
            "marker": {
             "colorbar": {
              "outlinewidth": 0,
              "ticks": ""
             }
            },
            "type": "scattergl"
           }
          ],
          "scattermap": [
           {
            "marker": {
             "colorbar": {
              "outlinewidth": 0,
              "ticks": ""
             }
            },
            "type": "scattermap"
           }
          ],
          "scattermapbox": [
           {
            "marker": {
             "colorbar": {
              "outlinewidth": 0,
              "ticks": ""
             }
            },
            "type": "scattermapbox"
           }
          ],
          "scatterpolar": [
           {
            "marker": {
             "colorbar": {
              "outlinewidth": 0,
              "ticks": ""
             }
            },
            "type": "scatterpolar"
           }
          ],
          "scatterpolargl": [
           {
            "marker": {
             "colorbar": {
              "outlinewidth": 0,
              "ticks": ""
             }
            },
            "type": "scatterpolargl"
           }
          ],
          "scatterternary": [
           {
            "marker": {
             "colorbar": {
              "outlinewidth": 0,
              "ticks": ""
             }
            },
            "type": "scatterternary"
           }
          ],
          "surface": [
           {
            "colorbar": {
             "outlinewidth": 0,
             "ticks": ""
            },
            "colorscale": [
             [
              0,
              "#0d0887"
             ],
             [
              0.1111111111111111,
              "#46039f"
             ],
             [
              0.2222222222222222,
              "#7201a8"
             ],
             [
              0.3333333333333333,
              "#9c179e"
             ],
             [
              0.4444444444444444,
              "#bd3786"
             ],
             [
              0.5555555555555556,
              "#d8576b"
             ],
             [
              0.6666666666666666,
              "#ed7953"
             ],
             [
              0.7777777777777778,
              "#fb9f3a"
             ],
             [
              0.8888888888888888,
              "#fdca26"
             ],
             [
              1,
              "#f0f921"
             ]
            ],
            "type": "surface"
           }
          ],
          "table": [
           {
            "cells": {
             "fill": {
              "color": "#EBF0F8"
             },
             "line": {
              "color": "white"
             }
            },
            "header": {
             "fill": {
              "color": "#C8D4E3"
             },
             "line": {
              "color": "white"
             }
            },
            "type": "table"
           }
          ]
         },
         "layout": {
          "annotationdefaults": {
           "arrowcolor": "#2a3f5f",
           "arrowhead": 0,
           "arrowwidth": 1
          },
          "autotypenumbers": "strict",
          "coloraxis": {
           "colorbar": {
            "outlinewidth": 0,
            "ticks": ""
           }
          },
          "colorscale": {
           "diverging": [
            [
             0,
             "#8e0152"
            ],
            [
             0.1,
             "#c51b7d"
            ],
            [
             0.2,
             "#de77ae"
            ],
            [
             0.3,
             "#f1b6da"
            ],
            [
             0.4,
             "#fde0ef"
            ],
            [
             0.5,
             "#f7f7f7"
            ],
            [
             0.6,
             "#e6f5d0"
            ],
            [
             0.7,
             "#b8e186"
            ],
            [
             0.8,
             "#7fbc41"
            ],
            [
             0.9,
             "#4d9221"
            ],
            [
             1,
             "#276419"
            ]
           ],
           "sequential": [
            [
             0,
             "#0d0887"
            ],
            [
             0.1111111111111111,
             "#46039f"
            ],
            [
             0.2222222222222222,
             "#7201a8"
            ],
            [
             0.3333333333333333,
             "#9c179e"
            ],
            [
             0.4444444444444444,
             "#bd3786"
            ],
            [
             0.5555555555555556,
             "#d8576b"
            ],
            [
             0.6666666666666666,
             "#ed7953"
            ],
            [
             0.7777777777777778,
             "#fb9f3a"
            ],
            [
             0.8888888888888888,
             "#fdca26"
            ],
            [
             1,
             "#f0f921"
            ]
           ],
           "sequentialminus": [
            [
             0,
             "#0d0887"
            ],
            [
             0.1111111111111111,
             "#46039f"
            ],
            [
             0.2222222222222222,
             "#7201a8"
            ],
            [
             0.3333333333333333,
             "#9c179e"
            ],
            [
             0.4444444444444444,
             "#bd3786"
            ],
            [
             0.5555555555555556,
             "#d8576b"
            ],
            [
             0.6666666666666666,
             "#ed7953"
            ],
            [
             0.7777777777777778,
             "#fb9f3a"
            ],
            [
             0.8888888888888888,
             "#fdca26"
            ],
            [
             1,
             "#f0f921"
            ]
           ]
          },
          "colorway": [
           "#636efa",
           "#EF553B",
           "#00cc96",
           "#ab63fa",
           "#FFA15A",
           "#19d3f3",
           "#FF6692",
           "#B6E880",
           "#FF97FF",
           "#FECB52"
          ],
          "font": {
           "color": "#2a3f5f"
          },
          "geo": {
           "bgcolor": "white",
           "lakecolor": "white",
           "landcolor": "#E5ECF6",
           "showlakes": true,
           "showland": true,
           "subunitcolor": "white"
          },
          "hoverlabel": {
           "align": "left"
          },
          "hovermode": "closest",
          "mapbox": {
           "style": "light"
          },
          "paper_bgcolor": "white",
          "plot_bgcolor": "#E5ECF6",
          "polar": {
           "angularaxis": {
            "gridcolor": "white",
            "linecolor": "white",
            "ticks": ""
           },
           "bgcolor": "#E5ECF6",
           "radialaxis": {
            "gridcolor": "white",
            "linecolor": "white",
            "ticks": ""
           }
          },
          "scene": {
           "xaxis": {
            "backgroundcolor": "#E5ECF6",
            "gridcolor": "white",
            "gridwidth": 2,
            "linecolor": "white",
            "showbackground": true,
            "ticks": "",
            "zerolinecolor": "white"
           },
           "yaxis": {
            "backgroundcolor": "#E5ECF6",
            "gridcolor": "white",
            "gridwidth": 2,
            "linecolor": "white",
            "showbackground": true,
            "ticks": "",
            "zerolinecolor": "white"
           },
           "zaxis": {
            "backgroundcolor": "#E5ECF6",
            "gridcolor": "white",
            "gridwidth": 2,
            "linecolor": "white",
            "showbackground": true,
            "ticks": "",
            "zerolinecolor": "white"
           }
          },
          "shapedefaults": {
           "line": {
            "color": "#2a3f5f"
           }
          },
          "ternary": {
           "aaxis": {
            "gridcolor": "white",
            "linecolor": "white",
            "ticks": ""
           },
           "baxis": {
            "gridcolor": "white",
            "linecolor": "white",
            "ticks": ""
           },
           "bgcolor": "#E5ECF6",
           "caxis": {
            "gridcolor": "white",
            "linecolor": "white",
            "ticks": ""
           }
          },
          "title": {
           "x": 0.05
          },
          "xaxis": {
           "automargin": true,
           "gridcolor": "white",
           "linecolor": "white",
           "ticks": "",
           "title": {
            "standoff": 15
           },
           "zerolinecolor": "white",
           "zerolinewidth": 2
          },
          "yaxis": {
           "automargin": true,
           "gridcolor": "white",
           "linecolor": "white",
           "ticks": "",
           "title": {
            "standoff": 15
           },
           "zerolinecolor": "white",
           "zerolinewidth": 2
          }
         }
        },
        "title": {
         "text": "Path plot"
        },
        "width": 1100,
        "xaxis": {
         "anchor": "y",
         "domain": [
          0,
          0.2888888888888889
         ]
        },
        "xaxis2": {
         "anchor": "y2",
         "domain": [
          0.35555555555555557,
          0.6444444444444445
         ]
        },
        "xaxis3": {
         "anchor": "y3",
         "domain": [
          0.7111111111111111,
          1
         ]
        },
        "xaxis4": {
         "anchor": "y4",
         "domain": [
          0,
          0.2888888888888889
         ]
        },
        "xaxis5": {
         "anchor": "y5",
         "domain": [
          0.35555555555555557,
          0.6444444444444445
         ]
        },
        "xaxis6": {
         "anchor": "y6",
         "domain": [
          0.7111111111111111,
          1
         ]
        },
        "xaxis7": {
         "anchor": "y7",
         "domain": [
          0,
          0.2888888888888889
         ]
        },
        "xaxis8": {
         "anchor": "y8",
         "domain": [
          0.35555555555555557,
          0.6444444444444445
         ]
        },
        "xaxis9": {
         "anchor": "y9",
         "domain": [
          0.7111111111111111,
          1
         ]
        },
        "yaxis": {
         "anchor": "x",
         "domain": [
          0.7333333333333333,
          1
         ]
        },
        "yaxis2": {
         "anchor": "x2",
         "domain": [
          0.7333333333333333,
          1
         ]
        },
        "yaxis3": {
         "anchor": "x3",
         "domain": [
          0.7333333333333333,
          1
         ]
        },
        "yaxis4": {
         "anchor": "x4",
         "domain": [
          0.36666666666666664,
          0.6333333333333333
         ]
        },
        "yaxis5": {
         "anchor": "x5",
         "domain": [
          0.36666666666666664,
          0.6333333333333333
         ]
        },
        "yaxis6": {
         "anchor": "x6",
         "domain": [
          0.36666666666666664,
          0.6333333333333333
         ]
        },
        "yaxis7": {
         "anchor": "x7",
         "domain": [
          0,
          0.26666666666666666
         ]
        },
        "yaxis8": {
         "anchor": "x8",
         "domain": [
          0,
          0.26666666666666666
         ]
        },
        "yaxis9": {
         "anchor": "x9",
         "domain": [
          0,
          0.26666666666666666
         ]
        }
       }
      }
     },
     "metadata": {},
     "output_type": "display_data"
    }
   ],
   "source": [
    "fig = go.Figure()\n",
    "fig = make_subplots(rows=3, cols=3, shared_xaxes=False)\n",
    "fig.update_layout(height=800, width=1100, title=\"Path plot\")\n",
    "fig.update_layout(margin=dict(l=10, r=10, t=40, b=10))  # Reduce margins\n",
    "\n",
    "fig.add_trace(go.Scatter( y=leg_0_df['TR0'], mode='lines', name=f'TR0'), row=1, col=1)\n",
    "fig.add_trace(go.Scatter( y=leg_0_df['CR0'], mode='lines', name=f'CR0'), row=2, col=1)\n",
    "fig.add_trace(go.Scatter( y=leg_0_df['FR0'], mode='lines', name=f'FR0'), row=3, col=1)\n",
    "\n",
    "fig.add_trace(go.Scatter( y=leg_1_df['TR1'], mode='lines', name=f'TR1'), row=1, col=2)\n",
    "fig.add_trace(go.Scatter( y=leg_1_df['CR1'], mode='lines', name=f'CR1'), row=2, col=2)\n",
    "fig.add_trace(go.Scatter( y=leg_1_df['FR1'], mode='lines', name=f'FR1'), row=3, col=2)\n",
    "\n",
    "fig.add_trace(go.Scatter( y=leg_2_df['TR2'], mode='lines', name=f'TR2'), row=1, col=3)\n",
    "fig.add_trace(go.Scatter( y=leg_2_df['CR2'], mode='lines', name=f'CR2'), row=2, col=3)\n",
    "fig.add_trace(go.Scatter( y=leg_2_df['FR2'], mode='lines', name=f'FR2'), row=3, col=3)\n",
    "\n",
    "fig.add_trace(go.Scatter( y=leg_0_df_me['TR0'], mode='lines', name=f'TR0_me'), row=1, col=1)\n",
    "fig.add_trace(go.Scatter( y=leg_0_df_me['CR0'], mode='lines', name=f'CR0_me'), row=2, col=1)\n",
    "fig.add_trace(go.Scatter( y=leg_0_df_me['FR0'], mode='lines', name=f'FR0_me'), row=3, col=1)\n",
    "\n",
    "fig.add_trace(go.Scatter( y=leg_1_df_me['TR1'], mode='lines', name=f'TR1_me'), row=1, col=2)\n",
    "fig.add_trace(go.Scatter( y=leg_1_df_me['CR1'], mode='lines', name=f'CR1_me'), row=2, col=2)\n",
    "fig.add_trace(go.Scatter( y=leg_1_df_me['FR1'], mode='lines', name=f'FR1_me'), row=3, col=2)\n",
    "\n",
    "fig.add_trace(go.Scatter( y=leg_2_df_me['TR2'], mode='lines', name=f'TR2_me'), row=1, col=3)\n",
    "fig.add_trace(go.Scatter( y=leg_2_df_me['CR2'], mode='lines', name=f'CR2_me'), row=2, col=3)\n",
    "fig.add_trace(go.Scatter( y=leg_2_df_me['FR2'], mode='lines', name=f'FR2_me'), row=3, col=3)"
   ]
  },
  {
   "cell_type": "code",
   "execution_count": 216,
   "metadata": {},
   "outputs": [],
   "source": [
    "leg_1_df_1 = pd.read_csv('rbfn_joint_targets_1_v1.csv')\n",
    "leg_1_df_2 = pd.read_csv('rbfn_joint_targets_1_v2.csv')\n",
    "leg_1_df_3 = pd.read_csv('rbfn_joint_targets_1_v3.csv')"
   ]
  },
  {
   "cell_type": "code",
   "execution_count": 217,
   "metadata": {},
   "outputs": [
    {
     "data": {
      "application/vnd.plotly.v1+json": {
       "config": {
        "plotlyServerURL": "https://plot.ly"
       },
       "data": [
        {
         "mode": "lines",
         "name": "TR1_1",
         "type": "scatter",
         "xaxis": "x",
         "y": {
          "bdata": "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",
          "dtype": "f8"
         },
         "yaxis": "y"
        },
        {
         "mode": "lines",
         "name": "CR1_1",
         "type": "scatter",
         "xaxis": "x2",
         "y": {
          "bdata": "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",
          "dtype": "f8"
         },
         "yaxis": "y2"
        },
        {
         "mode": "lines",
         "name": "FR1_1",
         "type": "scatter",
         "xaxis": "x3",
         "y": {
          "bdata": "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",
          "dtype": "f8"
         },
         "yaxis": "y3"
        },
        {
         "mode": "lines",
         "name": "TR1_2",
         "type": "scatter",
         "xaxis": "x",
         "y": {
          "bdata": "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",
          "dtype": "f8"
         },
         "yaxis": "y"
        },
        {
         "mode": "lines",
         "name": "CR1_2",
         "type": "scatter",
         "xaxis": "x2",
         "y": {
          "bdata": "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",
          "dtype": "f8"
         },
         "yaxis": "y2"
        },
        {
         "mode": "lines",
         "name": "FR1_2",
         "type": "scatter",
         "xaxis": "x3",
         "y": {
          "bdata": "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",
          "dtype": "f8"
         },
         "yaxis": "y3"
        },
        {
         "mode": "lines",
         "name": "TR1_3",
         "type": "scatter",
         "xaxis": "x",
         "y": {
          "bdata": "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",
          "dtype": "f8"
         },
         "yaxis": "y"
        },
        {
         "mode": "lines",
         "name": "CR1_3",
         "type": "scatter",
         "xaxis": "x2",
         "y": {
          "bdata": "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",
          "dtype": "f8"
         },
         "yaxis": "y2"
        },
        {
         "mode": "lines",
         "name": "FR1_3",
         "type": "scatter",
         "xaxis": "x3",
         "y": {
          "bdata": "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",
          "dtype": "f8"
         },
         "yaxis": "y3"
        }
       ],
       "layout": {
        "height": 800,
        "margin": {
         "b": 10,
         "l": 10,
         "r": 10,
         "t": 40
        },
        "template": {
         "data": {
          "bar": [
           {
            "error_x": {
             "color": "#2a3f5f"
            },
            "error_y": {
             "color": "#2a3f5f"
            },
            "marker": {
             "line": {
              "color": "#E5ECF6",
              "width": 0.5
             },
             "pattern": {
              "fillmode": "overlay",
              "size": 10,
              "solidity": 0.2
             }
            },
            "type": "bar"
           }
          ],
          "barpolar": [
           {
            "marker": {
             "line": {
              "color": "#E5ECF6",
              "width": 0.5
             },
             "pattern": {
              "fillmode": "overlay",
              "size": 10,
              "solidity": 0.2
             }
            },
            "type": "barpolar"
           }
          ],
          "carpet": [
           {
            "aaxis": {
             "endlinecolor": "#2a3f5f",
             "gridcolor": "white",
             "linecolor": "white",
             "minorgridcolor": "white",
             "startlinecolor": "#2a3f5f"
            },
            "baxis": {
             "endlinecolor": "#2a3f5f",
             "gridcolor": "white",
             "linecolor": "white",
             "minorgridcolor": "white",
             "startlinecolor": "#2a3f5f"
            },
            "type": "carpet"
           }
          ],
          "choropleth": [
           {
            "colorbar": {
             "outlinewidth": 0,
             "ticks": ""
            },
            "type": "choropleth"
           }
          ],
          "contour": [
           {
            "colorbar": {
             "outlinewidth": 0,
             "ticks": ""
            },
            "colorscale": [
             [
              0,
              "#0d0887"
             ],
             [
              0.1111111111111111,
              "#46039f"
             ],
             [
              0.2222222222222222,
              "#7201a8"
             ],
             [
              0.3333333333333333,
              "#9c179e"
             ],
             [
              0.4444444444444444,
              "#bd3786"
             ],
             [
              0.5555555555555556,
              "#d8576b"
             ],
             [
              0.6666666666666666,
              "#ed7953"
             ],
             [
              0.7777777777777778,
              "#fb9f3a"
             ],
             [
              0.8888888888888888,
              "#fdca26"
             ],
             [
              1,
              "#f0f921"
             ]
            ],
            "type": "contour"
           }
          ],
          "contourcarpet": [
           {
            "colorbar": {
             "outlinewidth": 0,
             "ticks": ""
            },
            "type": "contourcarpet"
           }
          ],
          "heatmap": [
           {
            "colorbar": {
             "outlinewidth": 0,
             "ticks": ""
            },
            "colorscale": [
             [
              0,
              "#0d0887"
             ],
             [
              0.1111111111111111,
              "#46039f"
             ],
             [
              0.2222222222222222,
              "#7201a8"
             ],
             [
              0.3333333333333333,
              "#9c179e"
             ],
             [
              0.4444444444444444,
              "#bd3786"
             ],
             [
              0.5555555555555556,
              "#d8576b"
             ],
             [
              0.6666666666666666,
              "#ed7953"
             ],
             [
              0.7777777777777778,
              "#fb9f3a"
             ],
             [
              0.8888888888888888,
              "#fdca26"
             ],
             [
              1,
              "#f0f921"
             ]
            ],
            "type": "heatmap"
           }
          ],
          "histogram": [
           {
            "marker": {
             "pattern": {
              "fillmode": "overlay",
              "size": 10,
              "solidity": 0.2
             }
            },
            "type": "histogram"
           }
          ],
          "histogram2d": [
           {
            "colorbar": {
             "outlinewidth": 0,
             "ticks": ""
            },
            "colorscale": [
             [
              0,
              "#0d0887"
             ],
             [
              0.1111111111111111,
              "#46039f"
             ],
             [
              0.2222222222222222,
              "#7201a8"
             ],
             [
              0.3333333333333333,
              "#9c179e"
             ],
             [
              0.4444444444444444,
              "#bd3786"
             ],
             [
              0.5555555555555556,
              "#d8576b"
             ],
             [
              0.6666666666666666,
              "#ed7953"
             ],
             [
              0.7777777777777778,
              "#fb9f3a"
             ],
             [
              0.8888888888888888,
              "#fdca26"
             ],
             [
              1,
              "#f0f921"
             ]
            ],
            "type": "histogram2d"
           }
          ],
          "histogram2dcontour": [
           {
            "colorbar": {
             "outlinewidth": 0,
             "ticks": ""
            },
            "colorscale": [
             [
              0,
              "#0d0887"
             ],
             [
              0.1111111111111111,
              "#46039f"
             ],
             [
              0.2222222222222222,
              "#7201a8"
             ],
             [
              0.3333333333333333,
              "#9c179e"
             ],
             [
              0.4444444444444444,
              "#bd3786"
             ],
             [
              0.5555555555555556,
              "#d8576b"
             ],
             [
              0.6666666666666666,
              "#ed7953"
             ],
             [
              0.7777777777777778,
              "#fb9f3a"
             ],
             [
              0.8888888888888888,
              "#fdca26"
             ],
             [
              1,
              "#f0f921"
             ]
            ],
            "type": "histogram2dcontour"
           }
          ],
          "mesh3d": [
           {
            "colorbar": {
             "outlinewidth": 0,
             "ticks": ""
            },
            "type": "mesh3d"
           }
          ],
          "parcoords": [
           {
            "line": {
             "colorbar": {
              "outlinewidth": 0,
              "ticks": ""
             }
            },
            "type": "parcoords"
           }
          ],
          "pie": [
           {
            "automargin": true,
            "type": "pie"
           }
          ],
          "scatter": [
           {
            "fillpattern": {
             "fillmode": "overlay",
             "size": 10,
             "solidity": 0.2
            },
            "type": "scatter"
           }
          ],
          "scatter3d": [
           {
            "line": {
             "colorbar": {
              "outlinewidth": 0,
              "ticks": ""
             }
            },
            "marker": {
             "colorbar": {
              "outlinewidth": 0,
              "ticks": ""
             }
            },
            "type": "scatter3d"
           }
          ],
          "scattercarpet": [
           {
            "marker": {
             "colorbar": {
              "outlinewidth": 0,
              "ticks": ""
             }
            },
            "type": "scattercarpet"
           }
          ],
          "scattergeo": [
           {
            "marker": {
             "colorbar": {
              "outlinewidth": 0,
              "ticks": ""
             }
            },
            "type": "scattergeo"
           }
          ],
          "scattergl": [
           {
            "marker": {
             "colorbar": {
              "outlinewidth": 0,
              "ticks": ""
             }
            },
            "type": "scattergl"
           }
          ],
          "scattermap": [
           {
            "marker": {
             "colorbar": {
              "outlinewidth": 0,
              "ticks": ""
             }
            },
            "type": "scattermap"
           }
          ],
          "scattermapbox": [
           {
            "marker": {
             "colorbar": {
              "outlinewidth": 0,
              "ticks": ""
             }
            },
            "type": "scattermapbox"
           }
          ],
          "scatterpolar": [
           {
            "marker": {
             "colorbar": {
              "outlinewidth": 0,
              "ticks": ""
             }
            },
            "type": "scatterpolar"
           }
          ],
          "scatterpolargl": [
           {
            "marker": {
             "colorbar": {
              "outlinewidth": 0,
              "ticks": ""
             }
            },
            "type": "scatterpolargl"
           }
          ],
          "scatterternary": [
           {
            "marker": {
             "colorbar": {
              "outlinewidth": 0,
              "ticks": ""
             }
            },
            "type": "scatterternary"
           }
          ],
          "surface": [
           {
            "colorbar": {
             "outlinewidth": 0,
             "ticks": ""
            },
            "colorscale": [
             [
              0,
              "#0d0887"
             ],
             [
              0.1111111111111111,
              "#46039f"
             ],
             [
              0.2222222222222222,
              "#7201a8"
             ],
             [
              0.3333333333333333,
              "#9c179e"
             ],
             [
              0.4444444444444444,
              "#bd3786"
             ],
             [
              0.5555555555555556,
              "#d8576b"
             ],
             [
              0.6666666666666666,
              "#ed7953"
             ],
             [
              0.7777777777777778,
              "#fb9f3a"
             ],
             [
              0.8888888888888888,
              "#fdca26"
             ],
             [
              1,
              "#f0f921"
             ]
            ],
            "type": "surface"
           }
          ],
          "table": [
           {
            "cells": {
             "fill": {
              "color": "#EBF0F8"
             },
             "line": {
              "color": "white"
             }
            },
            "header": {
             "fill": {
              "color": "#C8D4E3"
             },
             "line": {
              "color": "white"
             }
            },
            "type": "table"
           }
          ]
         },
         "layout": {
          "annotationdefaults": {
           "arrowcolor": "#2a3f5f",
           "arrowhead": 0,
           "arrowwidth": 1
          },
          "autotypenumbers": "strict",
          "coloraxis": {
           "colorbar": {
            "outlinewidth": 0,
            "ticks": ""
           }
          },
          "colorscale": {
           "diverging": [
            [
             0,
             "#8e0152"
            ],
            [
             0.1,
             "#c51b7d"
            ],
            [
             0.2,
             "#de77ae"
            ],
            [
             0.3,
             "#f1b6da"
            ],
            [
             0.4,
             "#fde0ef"
            ],
            [
             0.5,
             "#f7f7f7"
            ],
            [
             0.6,
             "#e6f5d0"
            ],
            [
             0.7,
             "#b8e186"
            ],
            [
             0.8,
             "#7fbc41"
            ],
            [
             0.9,
             "#4d9221"
            ],
            [
             1,
             "#276419"
            ]
           ],
           "sequential": [
            [
             0,
             "#0d0887"
            ],
            [
             0.1111111111111111,
             "#46039f"
            ],
            [
             0.2222222222222222,
             "#7201a8"
            ],
            [
             0.3333333333333333,
             "#9c179e"
            ],
            [
             0.4444444444444444,
             "#bd3786"
            ],
            [
             0.5555555555555556,
             "#d8576b"
            ],
            [
             0.6666666666666666,
             "#ed7953"
            ],
            [
             0.7777777777777778,
             "#fb9f3a"
            ],
            [
             0.8888888888888888,
             "#fdca26"
            ],
            [
             1,
             "#f0f921"
            ]
           ],
           "sequentialminus": [
            [
             0,
             "#0d0887"
            ],
            [
             0.1111111111111111,
             "#46039f"
            ],
            [
             0.2222222222222222,
             "#7201a8"
            ],
            [
             0.3333333333333333,
             "#9c179e"
            ],
            [
             0.4444444444444444,
             "#bd3786"
            ],
            [
             0.5555555555555556,
             "#d8576b"
            ],
            [
             0.6666666666666666,
             "#ed7953"
            ],
            [
             0.7777777777777778,
             "#fb9f3a"
            ],
            [
             0.8888888888888888,
             "#fdca26"
            ],
            [
             1,
             "#f0f921"
            ]
           ]
          },
          "colorway": [
           "#636efa",
           "#EF553B",
           "#00cc96",
           "#ab63fa",
           "#FFA15A",
           "#19d3f3",
           "#FF6692",
           "#B6E880",
           "#FF97FF",
           "#FECB52"
          ],
          "font": {
           "color": "#2a3f5f"
          },
          "geo": {
           "bgcolor": "white",
           "lakecolor": "white",
           "landcolor": "#E5ECF6",
           "showlakes": true,
           "showland": true,
           "subunitcolor": "white"
          },
          "hoverlabel": {
           "align": "left"
          },
          "hovermode": "closest",
          "mapbox": {
           "style": "light"
          },
          "paper_bgcolor": "white",
          "plot_bgcolor": "#E5ECF6",
          "polar": {
           "angularaxis": {
            "gridcolor": "white",
            "linecolor": "white",
            "ticks": ""
           },
           "bgcolor": "#E5ECF6",
           "radialaxis": {
            "gridcolor": "white",
            "linecolor": "white",
            "ticks": ""
           }
          },
          "scene": {
           "xaxis": {
            "backgroundcolor": "#E5ECF6",
            "gridcolor": "white",
            "gridwidth": 2,
            "linecolor": "white",
            "showbackground": true,
            "ticks": "",
            "zerolinecolor": "white"
           },
           "yaxis": {
            "backgroundcolor": "#E5ECF6",
            "gridcolor": "white",
            "gridwidth": 2,
            "linecolor": "white",
            "showbackground": true,
            "ticks": "",
            "zerolinecolor": "white"
           },
           "zaxis": {
            "backgroundcolor": "#E5ECF6",
            "gridcolor": "white",
            "gridwidth": 2,
            "linecolor": "white",
            "showbackground": true,
            "ticks": "",
            "zerolinecolor": "white"
           }
          },
          "shapedefaults": {
           "line": {
            "color": "#2a3f5f"
           }
          },
          "ternary": {
           "aaxis": {
            "gridcolor": "white",
            "linecolor": "white",
            "ticks": ""
           },
           "baxis": {
            "gridcolor": "white",
            "linecolor": "white",
            "ticks": ""
           },
           "bgcolor": "#E5ECF6",
           "caxis": {
            "gridcolor": "white",
            "linecolor": "white",
            "ticks": ""
           }
          },
          "title": {
           "x": 0.05
          },
          "xaxis": {
           "automargin": true,
           "gridcolor": "white",
           "linecolor": "white",
           "ticks": "",
           "title": {
            "standoff": 15
           },
           "zerolinecolor": "white",
           "zerolinewidth": 2
          },
          "yaxis": {
           "automargin": true,
           "gridcolor": "white",
           "linecolor": "white",
           "ticks": "",
           "title": {
            "standoff": 15
           },
           "zerolinecolor": "white",
           "zerolinewidth": 2
          }
         }
        },
        "title": {
         "text": "Path plot"
        },
        "width": 1100,
        "xaxis": {
         "anchor": "y",
         "domain": [
          0,
          1
         ]
        },
        "xaxis2": {
         "anchor": "y2",
         "domain": [
          0,
          1
         ]
        },
        "xaxis3": {
         "anchor": "y3",
         "domain": [
          0,
          1
         ]
        },
        "yaxis": {
         "anchor": "x",
         "domain": [
          0.7333333333333333,
          1
         ]
        },
        "yaxis2": {
         "anchor": "x2",
         "domain": [
          0.36666666666666664,
          0.6333333333333333
         ]
        },
        "yaxis3": {
         "anchor": "x3",
         "domain": [
          0,
          0.26666666666666666
         ]
        }
       }
      }
     },
     "metadata": {},
     "output_type": "display_data"
    }
   ],
   "source": [
    "fig = go.Figure()\n",
    "fig = make_subplots(rows=3, cols=1, shared_xaxes=False)\n",
    "fig.update_layout(height=800, width=1100, title=\"Path plot\")\n",
    "fig.update_layout(margin=dict(l=10, r=10, t=40, b=10))  # Reduce margins\n",
    "\n",
    "fig.add_trace(go.Scatter( y=leg_1_df_1['TR1'], mode='lines', name=f'TR1_1'), row=1, col=1)\n",
    "fig.add_trace(go.Scatter( y=leg_1_df_1['CR1'], mode='lines', name=f'CR1_1'), row=2, col=1)\n",
    "fig.add_trace(go.Scatter( y=leg_1_df_1['FR1'], mode='lines', name=f'FR1_1'), row=3, col=1)\n",
    "\n",
    "fig.add_trace(go.Scatter( y=leg_1_df_2['TR1'], mode='lines', name=f'TR1_2'), row=1, col=1)\n",
    "fig.add_trace(go.Scatter( y=leg_1_df_2['CR1'], mode='lines', name=f'CR1_2'), row=2, col=1)\n",
    "fig.add_trace(go.Scatter( y=leg_1_df_2['FR1'], mode='lines', name=f'FR1_2'), row=3, col=1)\n",
    "\n",
    "fig.add_trace(go.Scatter( y=leg_1_df_3['TR1'], mode='lines', name=f'TR1_3'), row=1, col=1)\n",
    "fig.add_trace(go.Scatter( y=leg_1_df_3['CR1'], mode='lines', name=f'CR1_3'), row=2, col=1)\n",
    "fig.add_trace(go.Scatter( y=leg_1_df_3['FR1'], mode='lines', name=f'FR1_3'), row=3, col=1)"
   ]
  },
  {
   "cell_type": "code",
   "execution_count": 218,
   "metadata": {},
   "outputs": [],
   "source": [
    "leg_2_df_1 = pd.read_csv('rbfn_joint_targets_2_new_v1.csv')\n",
    "leg_2_df_2 = pd.read_csv('rbfn_joint_targets_2_v1.csv')\n",
    "leg_2_df_3 = pd.read_csv('rbfn_joint_targets_2_v3.csv')"
   ]
  },
  {
   "cell_type": "code",
   "execution_count": 219,
   "metadata": {},
   "outputs": [
    {
     "data": {
      "application/vnd.plotly.v1+json": {
       "config": {
        "plotlyServerURL": "https://plot.ly"
       },
       "data": [
        {
         "mode": "lines",
         "name": "TR2_1",
         "type": "scatter",
         "xaxis": "x",
         "y": {
          "bdata": "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",
          "dtype": "f8"
         },
         "yaxis": "y"
        },
        {
         "mode": "lines",
         "name": "CR2_1",
         "type": "scatter",
         "xaxis": "x2",
         "y": {
          "bdata": "jSjtDb4wiT9GJXUCmgiLP4Za07zjFI0/WDm0yHa+jz+cxCCwcmiRPxKlvcEXJpM/UdobfGEylT9aZDvfT42XP+kmMQisHJo/Qj7o2az6nD8Rx7q4jQagP0SLbOf7qaE/mN2Th4Vaoz8OvjCZKhilP7pJDAIrh6Y/vw6cM6K0pz9fKcsQx7qoP1Z9rrZif6k/C7Wmeccpqj85tMh2vp+qPwMJih9j7qo/AwmKH2Puqj8YJlMFo5KqP2PuWkI+6Kk/8tJNYhBYqT+NKO0NvjCpP1Z9rrZif6k/C7Wmeccpqj+rz9VW7C+rP/KwUGuad6w/BOeMKO0Nrj+bVZ+rrdivP0w3iUFg5bA/HqfoSC7/sT8Spb3BFyazP0i/fR04Z7Q/kKD4MeautT/5D+m3rwO3P1K4HoXrUbg/mpmZmZmZuT/hehSuR+G6PxiV1AloIrw/PujZrPpcvT9UdCSX/5C+P2kAb4EExb8/t2J/2T15wD85RUdy+Q/BPzPEsS5uo8E/LUMc6+I2wj8nwoanV8rCP5jdk4eFWsM/gZVDi2znwz/ysFBrmnfEP9xoAG+BBMU/PL1SliGOxT+dEaW9wRfGP/5l9+RhocY/TfOOU3Qkxz8m5IOezarHP+0NvjCZKsg/tTf4wmSqyD98YTJVMCrJP7snDwu1psk/+u3rwDkjyj+xUGuad5zKP2iz6nO1Fcs/HhZqTfOOyz9NFYxK6gTMP3sUrkfhesw/qRPQRNjwzD9Pr5RliGPNP/VKWYY41s0/m+Ydp+hIzj9BguLHmLvOP4BIv30dOM8/0NVW7C+7zz8YldQJaCLQPw1xrIvbaNA/irDh6ZWy0D/LoUW28/3QP5T2Bl+YTNE/XkvIBz2b0T/sUbgehevRPz0K16NwPdI/VHQkl/+Q0j9q3nGKjuTSP4BIv30dONM/WmQ730+N0z/5MeauJeTTP5f/kH77OtQ/vjCZKhiV1D/lYaHWNO/UPwyTqYJRSdU/93XgnBGl1T/iWBe30QDWP5HtfD81XtY/QYLix5i71j/wFkhQ/BjXP5+rrdhfdtc/E/JBz2bV1z+GONbFbTTYPzbNO07Rkdg/qRPQRNjw2D9YqDXNO07ZP8zuycNCrdk/e4MvTKYK2j8rGJXUCWjaP9qs+lxtxdo/Ad4CCYof2z/swDkjSnvbPxPyQc9m1ds/dnEbDeAt3D8UP8bctYTcPyqpE9BE2Nw/BcWPMXct3T8bL90kBoHdP6g1zTtO0d0/rthfdk8e3j+itDf4wmTePw4tsp3vp94/LpCg+DHm3j/FjzF3LSHfP9QrZRniWN8/WmQ730+N3z9YObTIdr7fP5Jc/kP67d8/PzVeukkM4D9U46WbxCDgP4Y41sVtNOA/1zTvOEVH4D9F2PD0SlngP9Ei2/l+auA/exSuR+F64D8lBoGVQ4vgP8/3U+Olm+A/eekmMQis4D8j2/l+arzgP83MzMzMzOA/d76fGi/d4D8hsHJoke3gP8uhRbbz/eA/kzoBTYQN4T89LNSa5h3hP+cdp+hILuE/rrZif9k94T9YqDXNO07hPyBB8WPMXeE/6Nms+lxt4T+wcmiR7XzhP3gLJCh+jOE/QKTfvg6c4T8m5IOezarhP+58PzVeuuE/8WPMXUvI4T/1SlmGONbhP/kx5q4l5OE/GsBbIEHx4T9a9bnaiv3hP7fRAN4CCeI/FK5H4XoU4j9yio7k8h/iP+0NvjCZKuI/aJHtfD814j8CvAUSFD/iP5vmHafoSOI/NBE2PL1S4j/r4jYawFviP6K0N/jCZOI/WYY41sVt4j8u/yH99nXiPwN4CyQofuI/2PD0SlmG4j/LEMe6uI3iP74wmSoYleI/sVBrmnec4j+kcD0K16PiP5eQD3o2q+I/irDh6ZWy4j990LNZ9bniP2/whclUweI/RGlv8IXJ4j83iUFg5dDiPwwCK4cW2eI//yH99nXg4j/UmuYdp+jiP6kT0ETY8OI/nDOitDf44j9xrIvbaADjP0YldQKaCOM/OUVHcvkP4z8OvjCZKhjjPwHeAgmKH+M/9P3UeOkm4z/nHafoSC7jP9k9eVioNeM/zF1LyAc94z+/fR04Z0TjP7Kd76fGS+M/pb3BFyZT4z+2hHzQs1njP8dLN4lBYOM/umsJ+aBn4z/KMsSxLm7jP9v5fmq8dOM/CmgibHh64z8bL90kBoHjPyv2l92Th+M/WmQ730+N4z9rK/aX3ZPjP3zysFBrmuM/jLlrCfmg4z+dgCbChqfjP65H4XoUruM/oWez6nO14z+yLm6jAbzjP8P1KFyPwuM/tRX7y+7J4z/G3LWEfNDjP9ejcD0K1+M/ysNCrWne4z/biv1l9+TjP+xRuB6F6+M//Bhz1xLy4z8N4C2QoPjjPx6n6Egu/+M/L26jAbwF5D8/NV66SQzkP1D8GHPXEuQ/f2q8dJMY5D+QMXctIR/kP76fGi/dJOQ/7Q2+MJkq5D8cfGEyVTDkP0vqBDQRNuQ/eVioNc075D/GbTSAt0DkP/Xb14FzRuQ/QfFjzF1L5D9wXwfOGVHkP7x0kxgEVuQ/JzEIrBxa5D90RpT2Bl/kP/yp8dJNYuQ/ZmZmZmZm5D/vycNCrWnkP5XUCWgibOQ/O99PjZdu5D/i6ZWyDHHkP4j029eBc+Q/TKYKRiV15D8QWDm0yHbkP9UJaCJseOQ/mbuWkA965D97FK5H4XrkPz/G3LWEfOQ/A3gLJCh+5D/l0CLb+X7kP8cpOpLLf+Q/qoJRSZ2A5D+qglFJnYDkP6qCUUmdgOQ/qoJRSZ2A5D+qglFJnYDkP6qCUUmdgOQ/xyk6kst/5D/l0CLb+X7kPwN4CyQofuQ/IR/0bFZ95D9dbcX+snvkP5m7lpAPeuQ/1QloImx45D/ysFBrmnfkPy7/If32deQ/TKYKRiV15D9qTfOOU3TkP4j029eBc+Q/ppvEILBy5D/EQq1p3nHkP+LplbIMceQ/AJF++zpw5D8dOGdEaW/kPzvfT42XbuQ/WYY41sVt5D93LSEf9GzkP5XUCWgibOQ/s3vysFBr5D/vycNCrWnkPw1xrIvbaOQ/KxiV1Alo5D9mZmZmZmbkP6K0N/jCZOQ/wFsgQfFj5D/8qfHSTWLkPzj4wmSqYOQ/dEaU9gZf5D+vlGWIY13kPwmKH2PuWuQ/Rdjw9EpZ5D+BJsKGp1fkP9obfGEyVeQ/NBE2PL1S5D+OBvAWSFDkP8pUwaikTuQ/I0p7gy9M5D99PzVeuknkP9c07zhFR+Q/TtGRXP5D5D+oxks3iUHkPwK8BRIUP+Q/eVioNc075D/TTWIQWDnkP0vqBDQRNuQ/woanV8oy5D86I0p7gy/kP7G/7J48LOQ/KVyPwvUo5D++nxov3STkPzY8vVKWIeQ/rthfdk8e5D9DHOviNhrkP9lfdk8eFuQ/bqMBvAUS5D8E54wo7Q3kP5kqGJXUCeQ/L26jAbwF5D/iWBe30QDkP3icoiO5/OM/K4cW2c734z/ByqFFtvPjP3S1FfvL7uM/J6CJsOHp4z/biv1l9+TjP451cRsN4OM/QmDl0CLb4z/1SlmGONbjP4qO5PIf0uM/INJvXwfO4z+1FfvL7snjP0tZhjjWxeM/4JwRpb3B4z924JwRpb3jP+58PzVeuuM/g8DKoUW24z8ZBFYOLbLjP5Cg+DHmruM/JuSDns2q4z+dgCbChqfjPzPEsS5uo+M/yAc9m1Wf4z9ApN++DpzjP9Xnaiv2l+M/ayv2l92T4z8Ab4EExY/jP5ayDHGsi+M/Dk+vlGWI4z+jkjoBTYTjPxsv3SQGgeM/kst/SL994z/swDkjSnvjP0a28/3UeOM/n6ut2F924z/5oGez6nPjP3E9CtejcOM/yjLEsS5u4z8GgZVDi2zjP2B2Tx4WauM/umsJ+aBn4z8TYcPTK2XjP21Wfa62YuM/x0s3iUFg4z8gQfFjzF3jP3o2qz5XW+M/1CtlGeJY4z8tIR/0bFbjP4cW2c73U+M//7J78rBQ4z9YqDXNO07jP9BE2PD0SuM/SOF6FK5H4z+/fR04Z0TjP1XBqKROQOM/6gQ0ETY84z+e76fGSzfjP1HaG3xhMuM/Imx4eqUs4z8Spb3BFybjPwHeAgmKH+M/8BZIUPwY4z/fT42XbhLjP+wvuycPC+M/F7fRAN4C4z8kl/+QfvviP08eFmpN8+I/eqUsQxzr4j+lLEMc6+LiP9CzWfW52uI/GeJYF7fR4j9iEFg5tMjiP6s+V1uxv+I/9GxWfa624j89m1Wfq63iP6RwPQrXo+I/C0YldQKa4j9xGw3gLZDiP9jw9EpZhuI/P8bctYR84j+mm8QgsHLiPysYldQJaOI/r5RliGNd4j8Wak3zjlPiP5vmHafoSOI/IGPuWkI+4j+GONbFbTTiP7G/7J48LOI/3EYDeAsk4j/pJjEIrBziP9lfdk8eFuI/qvHSTWIQ4j97gy9MpgriP00VjErqBOI/AAAAAAAA4j+z6nO1FfvhP0ku/yH99uE/3nGKjuTy4T90tRX7y+7hP+xRuB6F6+E/gZVDi2zn4T/5MeauJeThP3DOiNLe4OE/6Gor9pfd4T9fB84ZUdrhP7n8h/Tb1+E/MZkqGJXU4T+oNc07TtHhPwIrhxbZzuE/escpOpLL4T/TvOMUHcnhP0tZhjjWxeE/pU5AE2HD4T8c6+I2GsDhP3bgnBGlveE/7nw/NV664T9lGeJYF7fhP78OnDOitOE/Nqs+V1ux4T+uR+F6FK7hPwg9m1Wfq+E/f9k9eVio4T/3deCcEaXhP28Sg8DKoeE/5q4l5IOe4T9eS8gHPZvhP9Xnaiv2l+E/TYQNT6+U4T/FILByaJHhP1pkO99PjeE/0gDeAgmK4T9JnYAmwobhP9/gC5OpguE/dCSX/5B+4T/swDkjSnvhP4EExY8xd+E/F0hQ/Bhz4T+si9toAG/hP0LPZtXnauE/1xLyQc9m4T9tVn2utmLhPwKaCBueXuE/mN2Th4Va4T8tIR/0bFbhP8NkqmBUUuE/WKg1zTtO4T/u68A5I0rhP6HWNO84ReE/NxrAWyBB4T/qBDQRNjzhP57vp8ZLN+E/MzMzMzMz4T/nHafoSC7hP5oIG55eKeE/TfOOU3Qk4T8fhetRuB7hP9JvXwfOGeE/hlrTvOMU4T9X7C+7Jw/hPyh+jLlrCeE/3GgAb4EE4T+t+lxtxf7gP36MuWsJ+eA/Tx4Wak3z4D8hsHJoke3gP/JBz2bV5+A/4XoUrkfh4D+zDHGsi9vgP4SezarP1eA/c9cS8kHP4D9iEFg5tMjgPzSitDf4wuA/I9v5fmq84D8SFD/G3LXgPwFNhA1Pr+A/8IXJVMGo4D/+ZffkYaHgP+2ePCzUmuA/3NeBc0aU4D/LEMe6uI3gP7pJDAIrh+A/qoJRSZ2A4D+3Yn/ZPXngP8RCrWneceA/s3vysFBr4D/AWyBB8WPgP807TtGRXOA/2ht8YTJV4D8Fo5I6AU3gPxKDwMqhReA/PQrXo3A94D9oke18PzXgP5MYBFYOLeA/vp8aL90k4D/pJjEIrBzgPzJVMCqpE+A/XdxGA3gL4D+mCkYldQLgP6MjufyH9N8/NIC3QILi3z/G3LWEfNDfP1g5tMh2vt8/6pWyDHGs3z988rBQa5rfPw5Pr5RliN8/n6ut2F923z8xCKwcWmTfP/+ye/KwUN8/kQ96Nqs+3z9eukkMAivfPyxlGeJYF98/vsEXJlMF3z+LbOf7qfHeP1kXt9EA3t4/YhBYObTI3j8wuycPC7XeP/5l9+Rhod4/B1+YTBWM3j/VCWgibHjeP94CCYofY94/5/up8dJN3j/x9EpZhjjeP/rt68A5I94/BOeMKO0N3j8N4C2QoPjdPxfZzvdT490/XCBB8WPM3T9lGeJYF7fdP6pgVFInoN0/8KfGSzeJ3T817zhFR3LdP3o2qz5XW90/v30dOGdE3T8FxY8xdy3dP0oMAiuHFt0/y6FFtvP93D8Q6bevA+fcP5F++zpwztw/EhQ/xty13D+TqYJRSZ3cPxQ/xty1hNw/WYY41sVt3D/r4jYawFvcPwWjkjoBTdw/5BQdyeU/3D86I0p7gy/cP5Axdy0hH9w/5j+k374O3D+z6nO1FfvbP4GVQ4ts59s/T0ATYcPT2z9YObTIdr7bP2EyVTAqqds/p3nHKTqS2z/swDkjSnvbPzEIrBxaZNs/sp3vp8ZL2z8zMzMzMzPbP7TIdr6fGts/NV66SQwC2z/yQc9m1efaP68l5IOezdo/qFfKMsSx2j9kO99PjZfaP11txf6ye9o/Vp+rrdhf2j9O0ZFc/kPaP0cDeAskKNo/e4MvTKYK2j90tRX7y+7ZP6g1zTtO0dk/3bWEfNCz2T9NhA1Pr5TZP4EExY8xd9k/8tJNYhBY2T8mUwWjkjrZP5YhjnVxG9k/B/AWSFD82D93vp8aL93YPyPb+X5qvNg/k6mCUUmd2D8DeAskKH7YP3RGlPYGX9g/5BQdyeU/2D+QMXctIR/YP3icoiO5/Nc/JLn8h/Tb1z/Q1VbsL7vXP3zysFBrmtc/ZF3cRgN41z9LyAc9m1XXPzMzMzMzM9c/G55eKcsQ1z8DCYofY+7WPyfChqdXytY/SnuDL0ym1j8y5q4l5IPWP5HtfD81XtY/8fRKWYY41j+MSuoENBHWP+xRuB6F69U/S1mGONbF1T/mriXkg57VP0a28/3UeNU/4QuTqYJR1T98YTJVMCrVPxe30QDeAtU/swxxrIvb1D+KsOHplbLUPyUGgZVDi9Q//Knx0k1i1D/TTWIQWDnUP6rx0k1iENQ/gZVDi2zn0z+Uh4Va07zTP2sr9pfdk9M/fh04Z0Rp0z+RD3o2qz7TP6MBvAUSFNM/8kHPZtXn0j8FNBE2PL3SP1R0JJf/kNI/orQ3+MJk0j/x9EpZhjjSPz81XrpJDNI/ysNCrWne0T9UUiegibDRP9/gC5OpgtE/aW/whclU0T/0/dR46SbRP7raiv1l99A/gLdAguLH0D9GlPYGX5jQP0i/fR04Z9A/D5wzorQ30D8Rx7q4jQbQPybkg57Nqs8/odY07zhFzz+lLEMc6+LOPyEf9GxWfc4/nRGlvcEXzj+QoPgx5q7NP4MvTKYKRs0/d76fGi/dzD9qTfOOU3TMP13cRgN4C8w/yAc9m1Wfyz8zMzMzMzPLPxb7y+7Jw8o/+MJkqmBUyj/biv1l9+TJP71SliGOdck/F7fRAN4CyT9xGw3gLZDIP8x/SL99Hcg/nYAmwoanxz9vgQTFjzHHP0GC4seYu8Y/ih9j7lpCxj/TvOMUHcnFPx1aZDvfT8U/3pOHhVrTxD8Wak3zjlPEP9ejcD0K18M/EHo2qz5Xwz/A7J48LNTCP3BfB84ZUcI/INJvXwfOwT9I4XoUrkfBP2/whclUwcA/D5wzorQ3wD9cj8L1KFy/P4ofY+5aQr4/p+hILv8hvT/VeOkmMQi8P+F6FK5H4bo/7nw/NV66uT/6fmq8dJO4P/W52or9Zbc/4C2QoPgxtj+62or9Zfe0P5SHhVrTvLM/bjSAt0CCsj8mUwWjkjqxP73jFB3J5a8/DJOpglFJrT85tMh2vp+qP2fV52or9qc/UdobfGEypT8730+Nl26iP4/k8h/Sb58/fdCzWfW5mj+Ens2qz9WWP2EyVTAqqZM/0m9fB84ZkT8ldQKaCBuOP8Dsnjws1Io/+n5qvHSTiD8=",
          "dtype": "f8"
         },
         "yaxis": "y2"
        },
        {
         "mode": "lines",
         "name": "FR2_1",
         "type": "scatter",
         "xaxis": "x3",
         "y": {
          "bdata": "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",
          "dtype": "f8"
         },
         "yaxis": "y3"
        }
       ],
       "layout": {
        "height": 800,
        "margin": {
         "b": 10,
         "l": 10,
         "r": 10,
         "t": 40
        },
        "template": {
         "data": {
          "bar": [
           {
            "error_x": {
             "color": "#2a3f5f"
            },
            "error_y": {
             "color": "#2a3f5f"
            },
            "marker": {
             "line": {
              "color": "#E5ECF6",
              "width": 0.5
             },
             "pattern": {
              "fillmode": "overlay",
              "size": 10,
              "solidity": 0.2
             }
            },
            "type": "bar"
           }
          ],
          "barpolar": [
           {
            "marker": {
             "line": {
              "color": "#E5ECF6",
              "width": 0.5
             },
             "pattern": {
              "fillmode": "overlay",
              "size": 10,
              "solidity": 0.2
             }
            },
            "type": "barpolar"
           }
          ],
          "carpet": [
           {
            "aaxis": {
             "endlinecolor": "#2a3f5f",
             "gridcolor": "white",
             "linecolor": "white",
             "minorgridcolor": "white",
             "startlinecolor": "#2a3f5f"
            },
            "baxis": {
             "endlinecolor": "#2a3f5f",
             "gridcolor": "white",
             "linecolor": "white",
             "minorgridcolor": "white",
             "startlinecolor": "#2a3f5f"
            },
            "type": "carpet"
           }
          ],
          "choropleth": [
           {
            "colorbar": {
             "outlinewidth": 0,
             "ticks": ""
            },
            "type": "choropleth"
           }
          ],
          "contour": [
           {
            "colorbar": {
             "outlinewidth": 0,
             "ticks": ""
            },
            "colorscale": [
             [
              0,
              "#0d0887"
             ],
             [
              0.1111111111111111,
              "#46039f"
             ],
             [
              0.2222222222222222,
              "#7201a8"
             ],
             [
              0.3333333333333333,
              "#9c179e"
             ],
             [
              0.4444444444444444,
              "#bd3786"
             ],
             [
              0.5555555555555556,
              "#d8576b"
             ],
             [
              0.6666666666666666,
              "#ed7953"
             ],
             [
              0.7777777777777778,
              "#fb9f3a"
             ],
             [
              0.8888888888888888,
              "#fdca26"
             ],
             [
              1,
              "#f0f921"
             ]
            ],
            "type": "contour"
           }
          ],
          "contourcarpet": [
           {
            "colorbar": {
             "outlinewidth": 0,
             "ticks": ""
            },
            "type": "contourcarpet"
           }
          ],
          "heatmap": [
           {
            "colorbar": {
             "outlinewidth": 0,
             "ticks": ""
            },
            "colorscale": [
             [
              0,
              "#0d0887"
             ],
             [
              0.1111111111111111,
              "#46039f"
             ],
             [
              0.2222222222222222,
              "#7201a8"
             ],
             [
              0.3333333333333333,
              "#9c179e"
             ],
             [
              0.4444444444444444,
              "#bd3786"
             ],
             [
              0.5555555555555556,
              "#d8576b"
             ],
             [
              0.6666666666666666,
              "#ed7953"
             ],
             [
              0.7777777777777778,
              "#fb9f3a"
             ],
             [
              0.8888888888888888,
              "#fdca26"
             ],
             [
              1,
              "#f0f921"
             ]
            ],
            "type": "heatmap"
           }
          ],
          "histogram": [
           {
            "marker": {
             "pattern": {
              "fillmode": "overlay",
              "size": 10,
              "solidity": 0.2
             }
            },
            "type": "histogram"
           }
          ],
          "histogram2d": [
           {
            "colorbar": {
             "outlinewidth": 0,
             "ticks": ""
            },
            "colorscale": [
             [
              0,
              "#0d0887"
             ],
             [
              0.1111111111111111,
              "#46039f"
             ],
             [
              0.2222222222222222,
              "#7201a8"
             ],
             [
              0.3333333333333333,
              "#9c179e"
             ],
             [
              0.4444444444444444,
              "#bd3786"
             ],
             [
              0.5555555555555556,
              "#d8576b"
             ],
             [
              0.6666666666666666,
              "#ed7953"
             ],
             [
              0.7777777777777778,
              "#fb9f3a"
             ],
             [
              0.8888888888888888,
              "#fdca26"
             ],
             [
              1,
              "#f0f921"
             ]
            ],
            "type": "histogram2d"
           }
          ],
          "histogram2dcontour": [
           {
            "colorbar": {
             "outlinewidth": 0,
             "ticks": ""
            },
            "colorscale": [
             [
              0,
              "#0d0887"
             ],
             [
              0.1111111111111111,
              "#46039f"
             ],
             [
              0.2222222222222222,
              "#7201a8"
             ],
             [
              0.3333333333333333,
              "#9c179e"
             ],
             [
              0.4444444444444444,
              "#bd3786"
             ],
             [
              0.5555555555555556,
              "#d8576b"
             ],
             [
              0.6666666666666666,
              "#ed7953"
             ],
             [
              0.7777777777777778,
              "#fb9f3a"
             ],
             [
              0.8888888888888888,
              "#fdca26"
             ],
             [
              1,
              "#f0f921"
             ]
            ],
            "type": "histogram2dcontour"
           }
          ],
          "mesh3d": [
           {
            "colorbar": {
             "outlinewidth": 0,
             "ticks": ""
            },
            "type": "mesh3d"
           }
          ],
          "parcoords": [
           {
            "line": {
             "colorbar": {
              "outlinewidth": 0,
              "ticks": ""
             }
            },
            "type": "parcoords"
           }
          ],
          "pie": [
           {
            "automargin": true,
            "type": "pie"
           }
          ],
          "scatter": [
           {
            "fillpattern": {
             "fillmode": "overlay",
             "size": 10,
             "solidity": 0.2
            },
            "type": "scatter"
           }
          ],
          "scatter3d": [
           {
            "line": {
             "colorbar": {
              "outlinewidth": 0,
              "ticks": ""
             }
            },
            "marker": {
             "colorbar": {
              "outlinewidth": 0,
              "ticks": ""
             }
            },
            "type": "scatter3d"
           }
          ],
          "scattercarpet": [
           {
            "marker": {
             "colorbar": {
              "outlinewidth": 0,
              "ticks": ""
             }
            },
            "type": "scattercarpet"
           }
          ],
          "scattergeo": [
           {
            "marker": {
             "colorbar": {
              "outlinewidth": 0,
              "ticks": ""
             }
            },
            "type": "scattergeo"
           }
          ],
          "scattergl": [
           {
            "marker": {
             "colorbar": {
              "outlinewidth": 0,
              "ticks": ""
             }
            },
            "type": "scattergl"
           }
          ],
          "scattermap": [
           {
            "marker": {
             "colorbar": {
              "outlinewidth": 0,
              "ticks": ""
             }
            },
            "type": "scattermap"
           }
          ],
          "scattermapbox": [
           {
            "marker": {
             "colorbar": {
              "outlinewidth": 0,
              "ticks": ""
             }
            },
            "type": "scattermapbox"
           }
          ],
          "scatterpolar": [
           {
            "marker": {
             "colorbar": {
              "outlinewidth": 0,
              "ticks": ""
             }
            },
            "type": "scatterpolar"
           }
          ],
          "scatterpolargl": [
           {
            "marker": {
             "colorbar": {
              "outlinewidth": 0,
              "ticks": ""
             }
            },
            "type": "scatterpolargl"
           }
          ],
          "scatterternary": [
           {
            "marker": {
             "colorbar": {
              "outlinewidth": 0,
              "ticks": ""
             }
            },
            "type": "scatterternary"
           }
          ],
          "surface": [
           {
            "colorbar": {
             "outlinewidth": 0,
             "ticks": ""
            },
            "colorscale": [
             [
              0,
              "#0d0887"
             ],
             [
              0.1111111111111111,
              "#46039f"
             ],
             [
              0.2222222222222222,
              "#7201a8"
             ],
             [
              0.3333333333333333,
              "#9c179e"
             ],
             [
              0.4444444444444444,
              "#bd3786"
             ],
             [
              0.5555555555555556,
              "#d8576b"
             ],
             [
              0.6666666666666666,
              "#ed7953"
             ],
             [
              0.7777777777777778,
              "#fb9f3a"
             ],
             [
              0.8888888888888888,
              "#fdca26"
             ],
             [
              1,
              "#f0f921"
             ]
            ],
            "type": "surface"
           }
          ],
          "table": [
           {
            "cells": {
             "fill": {
              "color": "#EBF0F8"
             },
             "line": {
              "color": "white"
             }
            },
            "header": {
             "fill": {
              "color": "#C8D4E3"
             },
             "line": {
              "color": "white"
             }
            },
            "type": "table"
           }
          ]
         },
         "layout": {
          "annotationdefaults": {
           "arrowcolor": "#2a3f5f",
           "arrowhead": 0,
           "arrowwidth": 1
          },
          "autotypenumbers": "strict",
          "coloraxis": {
           "colorbar": {
            "outlinewidth": 0,
            "ticks": ""
           }
          },
          "colorscale": {
           "diverging": [
            [
             0,
             "#8e0152"
            ],
            [
             0.1,
             "#c51b7d"
            ],
            [
             0.2,
             "#de77ae"
            ],
            [
             0.3,
             "#f1b6da"
            ],
            [
             0.4,
             "#fde0ef"
            ],
            [
             0.5,
             "#f7f7f7"
            ],
            [
             0.6,
             "#e6f5d0"
            ],
            [
             0.7,
             "#b8e186"
            ],
            [
             0.8,
             "#7fbc41"
            ],
            [
             0.9,
             "#4d9221"
            ],
            [
             1,
             "#276419"
            ]
           ],
           "sequential": [
            [
             0,
             "#0d0887"
            ],
            [
             0.1111111111111111,
             "#46039f"
            ],
            [
             0.2222222222222222,
             "#7201a8"
            ],
            [
             0.3333333333333333,
             "#9c179e"
            ],
            [
             0.4444444444444444,
             "#bd3786"
            ],
            [
             0.5555555555555556,
             "#d8576b"
            ],
            [
             0.6666666666666666,
             "#ed7953"
            ],
            [
             0.7777777777777778,
             "#fb9f3a"
            ],
            [
             0.8888888888888888,
             "#fdca26"
            ],
            [
             1,
             "#f0f921"
            ]
           ],
           "sequentialminus": [
            [
             0,
             "#0d0887"
            ],
            [
             0.1111111111111111,
             "#46039f"
            ],
            [
             0.2222222222222222,
             "#7201a8"
            ],
            [
             0.3333333333333333,
             "#9c179e"
            ],
            [
             0.4444444444444444,
             "#bd3786"
            ],
            [
             0.5555555555555556,
             "#d8576b"
            ],
            [
             0.6666666666666666,
             "#ed7953"
            ],
            [
             0.7777777777777778,
             "#fb9f3a"
            ],
            [
             0.8888888888888888,
             "#fdca26"
            ],
            [
             1,
             "#f0f921"
            ]
           ]
          },
          "colorway": [
           "#636efa",
           "#EF553B",
           "#00cc96",
           "#ab63fa",
           "#FFA15A",
           "#19d3f3",
           "#FF6692",
           "#B6E880",
           "#FF97FF",
           "#FECB52"
          ],
          "font": {
           "color": "#2a3f5f"
          },
          "geo": {
           "bgcolor": "white",
           "lakecolor": "white",
           "landcolor": "#E5ECF6",
           "showlakes": true,
           "showland": true,
           "subunitcolor": "white"
          },
          "hoverlabel": {
           "align": "left"
          },
          "hovermode": "closest",
          "mapbox": {
           "style": "light"
          },
          "paper_bgcolor": "white",
          "plot_bgcolor": "#E5ECF6",
          "polar": {
           "angularaxis": {
            "gridcolor": "white",
            "linecolor": "white",
            "ticks": ""
           },
           "bgcolor": "#E5ECF6",
           "radialaxis": {
            "gridcolor": "white",
            "linecolor": "white",
            "ticks": ""
           }
          },
          "scene": {
           "xaxis": {
            "backgroundcolor": "#E5ECF6",
            "gridcolor": "white",
            "gridwidth": 2,
            "linecolor": "white",
            "showbackground": true,
            "ticks": "",
            "zerolinecolor": "white"
           },
           "yaxis": {
            "backgroundcolor": "#E5ECF6",
            "gridcolor": "white",
            "gridwidth": 2,
            "linecolor": "white",
            "showbackground": true,
            "ticks": "",
            "zerolinecolor": "white"
           },
           "zaxis": {
            "backgroundcolor": "#E5ECF6",
            "gridcolor": "white",
            "gridwidth": 2,
            "linecolor": "white",
            "showbackground": true,
            "ticks": "",
            "zerolinecolor": "white"
           }
          },
          "shapedefaults": {
           "line": {
            "color": "#2a3f5f"
           }
          },
          "ternary": {
           "aaxis": {
            "gridcolor": "white",
            "linecolor": "white",
            "ticks": ""
           },
           "baxis": {
            "gridcolor": "white",
            "linecolor": "white",
            "ticks": ""
           },
           "bgcolor": "#E5ECF6",
           "caxis": {
            "gridcolor": "white",
            "linecolor": "white",
            "ticks": ""
           }
          },
          "title": {
           "x": 0.05
          },
          "xaxis": {
           "automargin": true,
           "gridcolor": "white",
           "linecolor": "white",
           "ticks": "",
           "title": {
            "standoff": 15
           },
           "zerolinecolor": "white",
           "zerolinewidth": 2
          },
          "yaxis": {
           "automargin": true,
           "gridcolor": "white",
           "linecolor": "white",
           "ticks": "",
           "title": {
            "standoff": 15
           },
           "zerolinecolor": "white",
           "zerolinewidth": 2
          }
         }
        },
        "title": {
         "text": "Path plot"
        },
        "width": 1100,
        "xaxis": {
         "anchor": "y",
         "domain": [
          0,
          1
         ]
        },
        "xaxis2": {
         "anchor": "y2",
         "domain": [
          0,
          1
         ]
        },
        "xaxis3": {
         "anchor": "y3",
         "domain": [
          0,
          1
         ]
        },
        "yaxis": {
         "anchor": "x",
         "domain": [
          0.7333333333333333,
          1
         ]
        },
        "yaxis2": {
         "anchor": "x2",
         "domain": [
          0.36666666666666664,
          0.6333333333333333
         ]
        },
        "yaxis3": {
         "anchor": "x3",
         "domain": [
          0,
          0.26666666666666666
         ]
        }
       }
      }
     },
     "metadata": {},
     "output_type": "display_data"
    }
   ],
   "source": [
    "fig = go.Figure()\n",
    "fig = make_subplots(rows=3, cols=1, shared_xaxes=False)\n",
    "fig.update_layout(height=800, width=1100, title=\"Path plot\")\n",
    "fig.update_layout(margin=dict(l=10, r=10, t=40, b=10))  # Reduce margins\n",
    "\n",
    "fig.add_trace(go.Scatter( y=leg_2_df_1['TR2'], mode='lines', name=f'TR2_1'), row=1, col=1)\n",
    "fig.add_trace(go.Scatter( y=leg_2_df_1['CR2'], mode='lines', name=f'CR2_1'), row=2, col=1)\n",
    "fig.add_trace(go.Scatter( y=leg_2_df_1['FR2'], mode='lines', name=f'FR2_1'), row=3, col=1)\n",
    "\n",
    "# fig.add_trace(go.Scatter( y=leg_2_df_2['TR2'], mode='lines', name=f'TR2_2'), row=1, col=1)\n",
    "# fig.add_trace(go.Scatter( y=leg_2_df_2['CR2'], mode='lines', name=f'CR2_2'), row=2, col=1)\n",
    "# fig.add_trace(go.Scatter( y=leg_2_df_2['FR2'], mode='lines', name=f'FR2_2'), row=3, col=1)\n",
    "\n",
    "# fig.add_trace(go.Scatter( y=leg_2_df_3['TR2'], mode='lines', name=f'TR2_3'), row=1, col=1)\n",
    "# fig.add_trace(go.Scatter( y=leg_2_df_3['CR2'], mode='lines', name=f'CR2_3'), row=2, col=1)\n",
    "# fig.add_trace(go.Scatter( y=leg_2_df_3['FR2'], mode='lines', name=f'FR2_3'), row=3, col=1)"
   ]
  }
 ],
 "metadata": {
  "kernelspec": {
   "display_name": "Python 3",
   "language": "python",
   "name": "python3"
  },
  "language_info": {
   "codemirror_mode": {
    "name": "ipython",
    "version": 3
   },
   "file_extension": ".py",
   "mimetype": "text/x-python",
   "name": "python",
   "nbconvert_exporter": "python",
   "pygments_lexer": "ipython3",
   "version": "3.10.12"
  }
 },
 "nbformat": 4,
 "nbformat_minor": 2
}
